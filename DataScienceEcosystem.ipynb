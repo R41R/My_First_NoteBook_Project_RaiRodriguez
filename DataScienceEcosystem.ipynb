{
 "cells": [
  {
   "cell_type": "markdown",
   "id": "a1050243-f68d-4e2c-b4bf-b9a6767e5ebf",
   "metadata": {
    "tags": []
   },
   "source": [
    "# Data Science Tools and Ecosystem"
   ]
  },
  {
   "cell_type": "markdown",
   "id": "4aceab86-a2f9-4c6d-aad0-e741fad2b490",
   "metadata": {},
   "source": [
    "## In this notebook, Data Science Tools and Ecosystem are summarized."
   ]
  },
  {
   "cell_type": "markdown",
   "id": "a93b2423-500c-4563-ad81-be21109e1898",
   "metadata": {},
   "source": [
    "Some of the popular languages that Data Scientists use are:\n",
    "1. Python\n",
    "2. Scala\n",
    "3. SQL\n",
    "4. R\n",
    "5. Julia\n"
   ]
  },
  {
   "cell_type": "markdown",
   "id": "3c43e1c5-3a86-4bf5-96fe-290ddecedbf0",
   "metadata": {},
   "source": [
    "## __Objectives:__\n",
    "+ Phython\n",
    "+ SQL\n",
    "+ Scala\n",
    "+ MATLAB"
   ]
  },
  {
   "cell_type": "markdown",
   "id": "fa471fd5-869d-4c8e-a8a8-927bb99371ed",
   "metadata": {
    "tags": []
   },
   "source": [
    "## Some of the commonly used libraries used by Data Scientists include:\n",
    "### Python Libraries:\n",
    "1. Numpy: It provides support for many mathematical functions to operate data structures.\n",
    "2. Pandas: A powerful data manipulation and analysis library.\n",
    "3. Matplotlib: A plotting library used for creating different types of visualizations.\n",
    "### R Libraries:\n",
    "1. ggplot2: A data visualization package for the statistical programming language R.\n",
    "2. dplyr: A grammar of data manipulation, providing consistent set of verbs that help you to solve the most common data manipulation challenges.\n",
    "3. caret: A package that streamlines the process of creating predictive models.\n",
    "### Julia libraries\n",
    "1. Dataframes.jl: A library for working with tabular data in Julia.\n",
    "2. Plots.jl: A powerful plotting package that supports a variety of backends, enabling to create complex of visualizations.\n",
    "3. Flux.jl: A machine learning library for Julia that is flexible and easy to use, providing tools for building neural networks. \n",
    "\n"
   ]
  },
  {
   "cell_type": "markdown",
   "id": "a310e5f0-3f62-43c8-82f8-5085595185ec",
   "metadata": {},
   "source": [
    "\n",
    "| Data Science Tools|\n",
    "----------------------\n",
    "| Jupyter Notebook |\n",
    "| Rstudio |\n",
    "| Apache Zeppelin |"
   ]
  },
  {
   "cell_type": "markdown",
   "id": "b9190745-b20b-4b63-9e87-a1ac26da5307",
   "metadata": {},
   "source": [
    "### Below are a few examples of evaluating arithmetic expressions in Python"
   ]
  },
  {
   "cell_type": "markdown",
   "id": "c3e66a94-de39-4fc0-bc7e-7771dbbe2e81",
   "metadata": {},
   "source": [
    "This is a simple arithmetic expression to multiply then add integers:\n",
    "- (3*4)+5"
   ]
  },
  {
   "cell_type": "code",
   "execution_count": 1,
   "id": "bb13c953-1a0d-4a4d-897f-ca5658d17b78",
   "metadata": {
    "tags": []
   },
   "outputs": [
    {
     "data": {
      "text/plain": [
       "17"
      ]
     },
     "execution_count": 1,
     "metadata": {},
     "output_type": "execute_result"
    }
   ],
   "source": [
    "(3*4)+5"
   ]
  },
  {
   "cell_type": "markdown",
   "id": "e5e78c2f-ae69-475a-a426-6fa284d2e426",
   "metadata": {},
   "source": [
    "This will convert 200 minutes to hours by diving by 60\n"
   ]
  },
  {
   "cell_type": "code",
   "execution_count": 2,
   "id": "6ba5dbb2-48c9-490e-8827-2d85e8a815c2",
   "metadata": {
    "tags": []
   },
   "outputs": [
    {
     "data": {
      "text/plain": [
       "3.3333333333333335"
      ]
     },
     "execution_count": 2,
     "metadata": {},
     "output_type": "execute_result"
    }
   ],
   "source": [
    "200/60\n"
   ]
  },
  {
   "cell_type": "markdown",
   "id": "d7092006-8ebd-49da-9955-c4460abe1c35",
   "metadata": {},
   "source": [
    "## Author\n",
    "\n",
    "Raí Rodriguez\n"
   ]
  }
 ],
 "metadata": {
  "kernelspec": {
   "display_name": "Python",
   "language": "python",
   "name": "conda-env-python-py"
  },
  "language_info": {
   "codemirror_mode": {
    "name": "ipython",
    "version": 3
   },
   "file_extension": ".py",
   "mimetype": "text/x-python",
   "name": "python",
   "nbconvert_exporter": "python",
   "pygments_lexer": "ipython3",
   "version": "3.7.12"
  }
 },
 "nbformat": 4,
 "nbformat_minor": 5
}
